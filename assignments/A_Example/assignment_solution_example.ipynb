{
  "nbformat": 4,
  "nbformat_minor": 0,
  "metadata": {
    "colab": {
      "provenance": [],
      "authorship_tag": "ABX9TyOMGw/8vENXhIyiScd1Gb8O",
      "include_colab_link": true
    },
    "kernelspec": {
      "name": "python3",
      "display_name": "Python 3"
    },
    "language_info": {
      "name": "python"
    }
  },
  "cells": [
    {
      "cell_type": "markdown",
      "metadata": {
        "id": "view-in-github",
        "colab_type": "text"
      },
      "source": [
        "<a href=\"https://colab.research.google.com/github/cbellinger27/asap_3001a_2023/blob/main/assignment_solution_example.ipynb\" target=\"_parent\"><img src=\"https://colab.research.google.com/assets/colab-badge.svg\" alt=\"Open In Colab\"/></a>"
      ]
    },
    {
      "cell_type": "markdown",
      "source": [
        "# Introduction"
      ],
      "metadata": {
        "id": "m1ZFfFHJRlWg"
      }
    },
    {
      "cell_type": "markdown",
      "source": [
        "The purpose of this notebook is to provide students with an example assignment solution in the coding tutorial format. After reading the tutorial, person with only a very basic knowledge of python should be able to understand each question along with how and why they are solved in a particular way.\n"
      ],
      "metadata": {
        "id": "p-JV6H3fRkJN"
      }
    },
    {
      "cell_type": "markdown",
      "source": [
        "# Question 1"
      ],
      "metadata": {
        "id": "oJ8F6J6qScvF"
      }
    },
    {
      "cell_type": "markdown",
      "source": [
        "**Restatement of Question 1**\n",
        "\n",
        "Generate a 8 by 12 NumPy array with random values between 0 and 1. Save the array in a variable called my_random_array. Write the code to determine and print the number of values in my_random_array that are less than 0.5.\n",
        "\n",
        "For example, this array:\n",
        "\n",
        "```\n",
        "[[.4, .3],\n",
        " [.7, .6],\n",
        " [.2, .8]]\n",
        "```\n",
        "\n",
        "has 3 values that are less than 0.5. For this array, your code should print the following message:\n",
        "\n",
        "There are 3 values less than 0.5 in the array. Recall, your array should 8x12 not 3x2 as in the demonstration above.\n"
      ],
      "metadata": {
        "id": "sCKGSasrSjH8"
      }
    },
    {
      "cell_type": "markdown",
      "source": [
        "**Objective of question 1** The objective of this question is to write a Python program that:\n",
        "\n",
        "\n",
        "\n",
        "1.   Creates a 2-dimensional array with 8 rows and 12 columns.\n",
        "2.   The cells of the array should be randomly populated with real-valued numbers between 0 and 1\n",
        "3.   Counts the number of values in the array that are less than 0.5, and\n",
        "4.   Prints the number of values that are less than 0.5 in a final statement.\n",
        "\n"
      ],
      "metadata": {
        "id": "9j7nBjGZTIg8"
      }
    },
    {
      "cell_type": "markdown",
      "source": [
        "**Question 1 Tutorial Steps**\n",
        "\n",
        "There are multiple ways to accurately complete this task. This includes a stategy that uses nested for loops to search for and count values less than 0.5, which would be computationally inefficient, or an approach that uses Numpy's ```count_nonzero``` function, which would be slightly more efficient in terms of memory usage.\n",
        "\n",
        "Below, I present an approach that is a straightforward and readable way to solve the task. It i suitable for most purposes."
      ],
      "metadata": {
        "id": "5c6WpEnbUcLp"
      }
    },
    {
      "cell_type": "markdown",
      "source": [
        "**Steps to the Solution**\n",
        "\n",
        "**Step 1.** The solution uses to Numpy functions, therefore, the first step is to import Numpy. The code below imports Numpy and gives it the alias ```np```."
      ],
      "metadata": {
        "id": "kkfUZSd-WfR2"
      }
    },
    {
      "cell_type": "code",
      "source": [
        "import numpy as np"
      ],
      "metadata": {
        "id": "i7KV953iWvg4"
      },
      "execution_count": 1,
      "outputs": []
    },
    {
      "cell_type": "markdown",
      "source": [
        "**Step 2.** In this step, I generate a 2-dimensional Numpy array with 8 rows and 12 columns in which each value is randomly sampled from a uniform distribution between 0 and 1.\n",
        "\n",
        "This step is completed with one line of code using the ```rand``` function from Numpy\\'s submodule ```random```. This submodule has many function to generate Numpy arrays with different types of random values.\n",
        "\n",
        "The ```rand``` function generates random values sampled from a uniform distribution between 0 and 1. I provide two inputs to the function, 8 and 12. These specify the number of rows and columns that the created array should have."
      ],
      "metadata": {
        "id": "y7veP1a2XG3O"
      }
    },
    {
      "cell_type": "code",
      "source": [
        "# Create an 8x12 array with random values between 0 and 1\n",
        "my_random_array = np.random.rand(8, 12)"
      ],
      "metadata": {
        "id": "tPJSO2F6ZAUB"
      },
      "execution_count": 2,
      "outputs": []
    },
    {
      "cell_type": "markdown",
      "source": [
        "**Step 3.** The next objective is to count number of values in the created array that are less than 0.5. This can easily be achieved in 1 line, but is it more readable if we use two lines of code.\n",
        "\n",
        "The first line creates a new array, named '''bool_array''', of the same shape, but with boolean values. For each position in '''my_random_array''' where the value is less than 0.5, '''bool_array''' takes the boolean value '''True'''. All other positions take the value '''False'''. This is achived by comparing '''my_random_array''' to 0.5 with the less than sign.\n",
        "\n",
        "```\n",
        "bool_array = my_random_array < 0.5\n",
        "```\n",
        "\n",
        "In Python, like most programming languages, boolean '''True''' is equivalent to the value 1 and boolean '''False''' is equivalent to the value 0. Therefore, I can apply the Numpy ```sum``` function to '''bool_array''' to count all of the '''True''' values, which signify places where the value in '''my_random_array''' is less than 0.5.\n",
        "\n",
        "```\n",
        "count_less_than_0_5 = np.sum(bool_array)\n",
        "```\n",
        "\n",
        "The complete code for this step is below.\n"
      ],
      "metadata": {
        "id": "Eu3Xs7q1ZCkB"
      }
    },
    {
      "cell_type": "code",
      "source": [
        "bool_array = my_random_array < 0.5\n",
        "count_less_than_point5 = np.sum(bool_array)"
      ],
      "metadata": {
        "id": "6viwdzppby73"
      },
      "execution_count": 4,
      "outputs": []
    },
    {
      "cell_type": "markdown",
      "source": [
        "**Step 4.** The final step is the print the number of times the values in '''my_random_array''' are less than 0.5, which I have saved in the variable count_less_than_point5. I use a standard Python print statement for this:\n",
        "```\n",
        "print(\"There are %i values less than 0.5 in the array.\" % count_less_than_point5)\n",
        "```\n",
        "\n",
        "The one noteworth element in the print statement is the use of the Integer placeholder ```%i``` in the string. Python substitutes the value in the variable ```count_less_than_point5``` prior to printing the string.\n",
        "\n",
        "The complete code for this step is shown below.\n"
      ],
      "metadata": {
        "id": "JRNaVQXsW8I8"
      }
    },
    {
      "cell_type": "code",
      "source": [
        "print(\"There are %i values less than 0.5 in the array.\" % count_less_than_point5)\n"
      ],
      "metadata": {
        "colab": {
          "base_uri": "https://localhost:8080/"
        },
        "id": "_9vs8kBRcjO1",
        "outputId": "08fecbda-71b1-40ac-ddec-d292d13cf705"
      },
      "execution_count": 5,
      "outputs": [
        {
          "output_type": "stream",
          "name": "stdout",
          "text": [
            "There are 39 values less than 0.5 in the array.\n"
          ]
        }
      ]
    }
  ]
}