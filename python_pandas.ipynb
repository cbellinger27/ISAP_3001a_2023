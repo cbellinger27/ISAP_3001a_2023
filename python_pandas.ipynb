{
  "nbformat": 4,
  "nbformat_minor": 0,
  "metadata": {
    "colab": {
      "provenance": [],
      "authorship_tag": "ABX9TyN6U3R5oJv/u08Zmlpnb8U8",
      "include_colab_link": true
    },
    "kernelspec": {
      "name": "python3",
      "display_name": "Python 3"
    },
    "language_info": {
      "name": "python"
    }
  },
  "cells": [
    {
      "cell_type": "markdown",
      "metadata": {
        "id": "view-in-github",
        "colab_type": "text"
      },
      "source": [
        "<a href=\"https://colab.research.google.com/github/cbellinger27/ISAP_3001a_2023/blob/main/python_pandas.ipynb\" target=\"_parent\"><img src=\"https://colab.research.google.com/assets/colab-badge.svg\" alt=\"Open In Colab\"/></a>"
      ]
    },
    {
      "cell_type": "markdown",
      "source": [
        "**Code on Pandas for Sept. 13**\n",
        "\n",
        "This document includes example uses of the Pandas package.\n",
        "Pandas has two key data structures: series and dataframe\n",
        "\n",
        "This code inclues:\n",
        "\n",
        "\n",
        "1.   Creating and accessing Pandas Series\n",
        "2.   Creating and accessing Pandas DataFrames\n",
        "3.   Adding and dropping columns in DataFrames\n",
        "4.   Basic summaries and exploration of DataFrames"
      ],
      "metadata": {
        "id": "Lp4Z1rh75K7v"
      }
    },
    {
      "cell_type": "code",
      "source": [
        "import pandas as pd\n",
        "import numpy as np"
      ],
      "metadata": {
        "id": "xpvALqgeA1of"
      },
      "execution_count": 2,
      "outputs": []
    },
    {
      "cell_type": "markdown",
      "source": [
        "# Creating and Accessing Series"
      ],
      "metadata": {
        "id": "LoMb3hgh_kEA"
      }
    },
    {
      "cell_type": "markdown",
      "source": [
        "**Pandas Series:** 1-dimensional Numpy-like array composed of a indices and an elements. Pandas Series are useful for sequential and time series data.\n",
        "\n",
        "Like Numpy ndarrays, there are multiple ways to created Pandas Series.\n",
        "\n",
        "The most basic way to create a Series is with user-specified values."
      ],
      "metadata": {
        "id": "_w6wzKnsADcI"
      }
    },
    {
      "cell_type": "code",
      "source": [
        "# Creating a series in Pandas from a users-specificied List\n",
        "myPdSeries = pd.Series([1, 2, 3, 4, 5, 6])\n",
        "print(myPdSeries)\n"
      ],
      "metadata": {
        "colab": {
          "base_uri": "https://localhost:8080/"
        },
        "id": "jfa4Sk7CAQOp",
        "outputId": "1a1ee0e3-5924-4e0c-88c9-0f016eab8da9"
      },
      "execution_count": 7,
      "outputs": [
        {
          "output_type": "stream",
          "name": "stdout",
          "text": [
            "0    1\n",
            "1    2\n",
            "2    3\n",
            "3    4\n",
            "4    5\n",
            "5    6\n",
            "dtype: int64\n"
          ]
        }
      ]
    },
    {
      "cell_type": "markdown",
      "source": [
        "As you see above, when you print the Series '''myPdSeries''', you see both the indices and the elements of the series. By default, the indices are 0 to 1 minus the length of the series, but they can be set to something else."
      ],
      "metadata": {
        "id": "zDg-_auE_LlO"
      }
    },
    {
      "cell_type": "code",
      "source": [
        "# Creating a series in Pandas with a user-specified values and indices\n",
        "myPdSeries = pd.Series([1, 2, 3, 4, 5, 6],\n",
        "                       index=['a', 'b', 'c', 'd', 'e', 'f'])\n",
        "print(myPdSeries)\n"
      ],
      "metadata": {
        "colab": {
          "base_uri": "https://localhost:8080/"
        },
        "id": "ZQ8tOR_OA9n9",
        "outputId": "a1ae97df-fc06-464f-8d2f-d2bfa7c2f8b1"
      },
      "execution_count": 9,
      "outputs": [
        {
          "output_type": "stream",
          "name": "stdout",
          "text": [
            "a    1\n",
            "b    2\n",
            "c    3\n",
            "d    4\n",
            "e    5\n",
            "f    6\n",
            "dtype: int64\n"
          ]
        }
      ]
    },
    {
      "cell_type": "markdown",
      "source": [
        "**Date time index values:** since Pandas Series are ideal for holding time series datasets, we often want the indices to be in a date and/or time format."
      ],
      "metadata": {
        "id": "dKjLolJuBNDP"
      }
    },
    {
      "cell_type": "code",
      "source": [
        "#Create a DatetimeIndex with specific range to use as the indicies of the Series\n",
        "\n",
        "# 20200518 -> year, month, day\n",
        "myPdDateRange = pd.date_range('20200518', periods=12)\n",
        "\n",
        "print(\"The DatetimeIndex is:\")\n",
        "print(myPdDateRange)\n",
        "print(\"\")\n",
        "''' You can create a new Pandas series and\n",
        " set the index as myPdDateRange'''\n",
        "\n",
        "myPdSeries2 = pd.Series(np.arange(12),\n",
        "                        index=myPdDateRange)\n",
        "\n",
        "print(\"The Pandas Series with DatatimeIndex is:\")\n",
        "print(myPdSeries2)"
      ],
      "metadata": {
        "colab": {
          "base_uri": "https://localhost:8080/"
        },
        "id": "WnPjb2B7Bmio",
        "outputId": "662b1488-4bbb-47fb-ac14-46b9305377df"
      },
      "execution_count": 10,
      "outputs": [
        {
          "output_type": "stream",
          "name": "stdout",
          "text": [
            "The DatetimeIndex is:\n",
            "DatetimeIndex(['2020-05-18', '2020-05-19', '2020-05-20', '2020-05-21',\n",
            "               '2020-05-22', '2020-05-23', '2020-05-24', '2020-05-25',\n",
            "               '2020-05-26', '2020-05-27', '2020-05-28', '2020-05-29'],\n",
            "              dtype='datetime64[ns]', freq='D')\n",
            "\n",
            "The Pandas Series with DatatimeIndex is:\n",
            "2020-05-18     0\n",
            "2020-05-19     1\n",
            "2020-05-20     2\n",
            "2020-05-21     3\n",
            "2020-05-22     4\n",
            "2020-05-23     5\n",
            "2020-05-24     6\n",
            "2020-05-25     7\n",
            "2020-05-26     8\n",
            "2020-05-27     9\n",
            "2020-05-28    10\n",
            "2020-05-29    11\n",
            "Freq: D, dtype: int64\n"
          ]
        }
      ]
    },
    {
      "cell_type": "markdown",
      "source": [
        "**Accessing values:** accessing and modifying values in a Pandas Series can be done an Pandas style or a Numpy style. The Pandas style might take a bit of practice to get used to."
      ],
      "metadata": {
        "id": "2O-1hFnoC0hR"
      }
    },
    {
      "cell_type": "code",
      "source": [
        "# Illustration of accessing values in a Series in the Numpy way and Pandas way\n",
        "\n",
        "print(\"The series is: \")\n",
        "print(myPdSeries)\n",
        "print(\"\")\n",
        "\n",
        "print(\"- Here, we are accessing the third element \"\n",
        "      \"using array-like notations: myPdSeries[2]\")\n",
        "print(\"- The value of the third element is: %i\" % myPdSeries[2])\n",
        "print(\"\")\n",
        "\n",
        "print(\"- Here, we are accessing the third \"\n",
        "      \"element using a Pandas specific technique: myPdSeries.iloc[2]\")\n",
        "print(\"- The value of the third element is %i\" % myPdSeries.iloc[2])\n"
      ],
      "metadata": {
        "colab": {
          "base_uri": "https://localhost:8080/"
        },
        "id": "fz2fpKAQDwIx",
        "outputId": "39914c30-384c-4d8d-b30f-4b9184ef6a38"
      },
      "execution_count": 24,
      "outputs": [
        {
          "output_type": "stream",
          "name": "stdout",
          "text": [
            "The series is: \n",
            "a    1\n",
            "b    2\n",
            "c    3\n",
            "d    4\n",
            "e    5\n",
            "f    6\n",
            "dtype: int64\n",
            "\n",
            "- Here, we are accessing the third element using array-like notations: myPdSeries[2]\n",
            "- The value of the third element is: 3\n",
            "\n",
            "- Here, we are accessing the third element using a Pandas specific technique: myPdSeries.iloc[2]\n",
            "- The value of the third element is 3\n"
          ]
        }
      ]
    },
    {
      "cell_type": "code",
      "source": [
        "# Illustration of accessing values in a Series based on the Series index value\n",
        "print(\"The series is: \")\n",
        "print(myPdSeries)\n",
        "print(\"\")\n",
        "\n",
        "print(\"Accessing the Series value at index \\'d\\'\")\n",
        "print(myPdSeries['d'])\n",
        "print(myPdSeries.loc['d'])\n"
      ],
      "metadata": {
        "colab": {
          "base_uri": "https://localhost:8080/"
        },
        "id": "cCz547h0EzdA",
        "outputId": "94b24796-b31e-444f-c170-b910957d56e5"
      },
      "execution_count": 25,
      "outputs": [
        {
          "output_type": "stream",
          "name": "stdout",
          "text": [
            "The series is: \n",
            "a    1\n",
            "b    2\n",
            "c    3\n",
            "d    4\n",
            "e    5\n",
            "f    6\n",
            "dtype: int64\n",
            "\n",
            "Accessing the Series value at index 'd'\n",
            "4\n",
            "4\n"
          ]
        }
      ]
    },
    {
      "cell_type": "markdown",
      "source": [
        "**Slicing as Series:** a Pandas Series and be sliced in a similar way to Numpy arrays"
      ],
      "metadata": {
        "id": "_lcLim_MFtqY"
      }
    },
    {
      "cell_type": "code",
      "source": [
        "# Illustration of slicing in a Series in the Pandas and Numpy way\n",
        "\n",
        "print(\"The series is: \")\n",
        "print(myPdSeries)\n",
        "print(\"\")\n",
        "\n",
        "#Slice the Series to include values from 3rd element onward\n",
        "print(\"Values at 3rd element onward\")\n",
        "print(myPdSeries[2:])\n",
        "print(\"\")\n",
        "\n",
        "#Slice the Series to include values up to 3rd element\n",
        "print(\"Slice the Series up to 3rd element\")\n",
        "print(myPdSeries.iloc[:3])\n",
        "myPdSeries[1:4]"
      ],
      "metadata": {
        "colab": {
          "base_uri": "https://localhost:8080/"
        },
        "id": "EwBRIWJbFWW5",
        "outputId": "ec69e084-d20a-42ac-a7c4-f1a16796d5ec"
      },
      "execution_count": 26,
      "outputs": [
        {
          "output_type": "stream",
          "name": "stdout",
          "text": [
            "The series is: \n",
            "a    1\n",
            "b    2\n",
            "c    3\n",
            "d    4\n",
            "e    5\n",
            "f    6\n",
            "dtype: int64\n",
            "\n",
            "Values at 3rd element onward\n",
            "c    3\n",
            "d    4\n",
            "e    5\n",
            "f    6\n",
            "dtype: int64\n",
            "\n",
            "Slice the Series up to 3rd element\n",
            "a    1\n",
            "b    2\n",
            "c    3\n",
            "dtype: int64\n"
          ]
        },
        {
          "output_type": "execute_result",
          "data": {
            "text/plain": [
              "b    2\n",
              "c    3\n",
              "d    4\n",
              "dtype: int64"
            ]
          },
          "metadata": {},
          "execution_count": 26
        }
      ]
    },
    {
      "cell_type": "markdown",
      "source": [
        "# Creating and Accessing Pandas DataFrames"
      ],
      "metadata": {
        "id": "qXRNgrN4Cos8"
      }
    },
    {
      "cell_type": "markdown",
      "source": [
        "**Pandas DataFrame:** DataFrames are 2-dimensional Numpy-like array. They are ideal for tabular data (similar to a Excel spreadsheet). Data of this nature is very common in data science projects.\n",
        "\n",
        "DataFrame are composed of:\n",
        "*    Indices (like a Pandas Series)\n",
        "*    Rows and columns\n",
        "\n",
        "Each column has a header label."
      ],
      "metadata": {
        "id": "u4y9BTUjJgVq"
      }
    },
    {
      "cell_type": "markdown",
      "source": [
        "**Creating a Pandas DataFrame:** like a Pandas Series, DataFrames can be created from user-defined values or loaded from a file."
      ],
      "metadata": {
        "id": "jzHopjEWKH4w"
      }
    },
    {
      "cell_type": "code",
      "source": [
        "# Here we create a DataFrame with Random values.\n",
        "# The indices are set by default from 0 to the number of rows minus 1\n",
        "\n",
        "myDataFrame = pd.DataFrame(np.random.randn(10, 4),\n",
        "                           columns=list('ABCD'))\n",
        "\n",
        "print(\"This is an example of a Pandas DataFrame \"\n",
        "      \"populated with random values\")\n",
        "print(myDataFrame)\n"
      ],
      "metadata": {
        "colab": {
          "base_uri": "https://localhost:8080/"
        },
        "id": "3MRT9Bp0Kjjr",
        "outputId": "c21f1fe4-f8c6-4093-f381-60403f6eabd5"
      },
      "execution_count": 5,
      "outputs": [
        {
          "output_type": "stream",
          "name": "stdout",
          "text": [
            "This is an example of a Pandas DataFrame populated with random values\n",
            "          A         B         C         D\n",
            "0  0.412028  1.254795  0.463098  1.179219\n",
            "1 -1.043285 -0.149263 -0.470727  0.783013\n",
            "2  1.273786 -0.930714 -1.095409  0.494329\n",
            "3  0.010220  0.737772 -0.680984 -0.504948\n",
            "4 -0.011178 -0.078953  0.857370 -0.065680\n",
            "5 -0.243469  0.418875 -0.749756 -0.341996\n",
            "6 -0.830419  0.964536  0.211235 -2.069141\n",
            "7  0.078862 -0.338100 -0.671408  1.568386\n",
            "8 -0.884859  0.752275  1.828105  0.564885\n",
            "9  0.452609 -0.988381  1.334920 -0.353884\n"
          ]
        }
      ]
    },
    {
      "cell_type": "markdown",
      "source": [
        "**Getting just the values:** sometimes we want to get just the values out the the DataFrame. We can do this as:\n",
        "```\n",
        "myDataFrame.values\n",
        "```\n",
        "The result is the values in the format of a Numpy ndarray."
      ],
      "metadata": {
        "id": "6ACeBStULMLR"
      }
    },
    {
      "cell_type": "code",
      "source": [
        "#Illustration of getting just the values from the DataFrame (without the indices)\n",
        "# The result is the values in the form of a Numpy ndarray.\n",
        "\n",
        "print(\"Getting just the values\")\n",
        "print(myDataFrame.values)\n"
      ],
      "metadata": {
        "colab": {
          "base_uri": "https://localhost:8080/"
        },
        "id": "nmltHF8CLc7-",
        "outputId": "2700ca6f-d1fa-4f15-d8af-ea90eaf909d2"
      },
      "execution_count": 8,
      "outputs": [
        {
          "output_type": "stream",
          "name": "stdout",
          "text": [
            "Getting just the values\n",
            "[[ 0.41202835  1.25479532  0.46309826  1.17921923]\n",
            " [-1.04328483 -0.14926304 -0.47072726  0.78301309]\n",
            " [ 1.27378604 -0.93071388 -1.09540866  0.49432856]\n",
            " [ 0.01022019  0.73777176 -0.68098354 -0.50494775]\n",
            " [-0.01117807 -0.07895285  0.85737049 -0.06568008]\n",
            " [-0.2434687   0.41887508 -0.74975607 -0.34199556]\n",
            " [-0.83041866  0.96453556  0.21123516 -2.06914077]\n",
            " [ 0.07886169 -0.33810023 -0.67140811  1.56838602]\n",
            " [-0.88485902  0.75227482  1.8281045   0.56488527]\n",
            " [ 0.45260871 -0.98838113  1.33491972 -0.35388406]]\n"
          ]
        }
      ]
    },
    {
      "cell_type": "markdown",
      "source": [
        "You can also see the value of the indices like this:\n",
        "```\n",
        "myDataFrame.index\n",
        "```"
      ],
      "metadata": {
        "id": "B4cKq02NPCUS"
      }
    },
    {
      "cell_type": "markdown",
      "source": [
        "**Creating a DataFrame from file:** ''' More often than not in data science, we are provided with a data file in CSV format, and we want to read that file into a DataFrame. This is achieved with the function:\n",
        "\n",
        "```\n",
        "read_csv(file_name)\n",
        "```\n",
        "\n",
        "To read a file into a Pandas DataFrame in Colab, first drag and drop the file into Colab. If you need a refresher on this, take a look at the Numpy slides.\n",
        "\n",
        "If the values are separated by some delimiter other than a comma, such as a semi-colon, use the ```sep``` parameter to specify the value\n",
        "\n",
        "```\n",
        "read_csv(file_name, sep=';')\n",
        "```"
      ],
      "metadata": {
        "id": "j6FjECyHL9iy"
      }
    },
    {
      "cell_type": "code",
      "source": [
        "# Illustration of reading a csv file into a Pandas DataFrame\n",
        "# Here, we use the nba.csv file as an example\n",
        "\n",
        "print(\"loading the nba.csv file into a DataFrame \\n\")\n",
        "nbaDf = pd.read_csv('nba.csv')\n",
        "\n",
        "print(\"This is what the first 5 rows of the NBA data looks like when loaded into a DataFrame \\n\")\n",
        "\n",
        "#the head(n) function return the first n rows of the DataFrame\n",
        "print(nbaDf.head(5))"
      ],
      "metadata": {
        "colab": {
          "base_uri": "https://localhost:8080/"
        },
        "id": "kmITiSWOMpHs",
        "outputId": "bcfc615c-ac18-4727-ea7f-d3c8af301593"
      },
      "execution_count": 9,
      "outputs": [
        {
          "output_type": "stream",
          "name": "stdout",
          "text": [
            "loading the nba.csv file into a DataFrame \n",
            "\n",
            "This is what the first 5 rows of the NBA data looks like when loaded into a DataFrame \n",
            "\n",
            "               Teams     Season  Wins  Losses\n",
            "0      Atlanta Hawks  2018-2019    29      53\n",
            "1     Boston Celtics  2018-2019    49      33\n",
            "2      Brooklyn Nets  2018-2019    42      40\n",
            "3  Charlotte Hornets  2018-2019    39      43\n",
            "4      Chicago Bulls  2018-2019    22      60\n"
          ]
        }
      ]
    },
    {
      "cell_type": "markdown",
      "source": [
        "**Changing the index values:** In the above example, the nba.csv file was read into a DataFrame and given default index values.\n",
        "\n",
        "Similar to Pandas Series, we can specify non-default index values, including DatatimeIndex values."
      ],
      "metadata": {
        "id": "fYv90FlyNg7w"
      }
    },
    {
      "cell_type": "code",
      "source": [
        "'''The index of a DataFrame can be set to date / times\n",
        "or other meaningful values'''\n",
        "\n",
        "print(\"myDataFrame Dataframe with default index values\")\n",
        "print(myDataFrame.head(5))\n",
        "print(\"\")\n",
        "\n",
        "#create the DatatimeIndex values\n",
        "days = pd.date_range('20220525', periods=10)\n",
        "#reset the index value of myDataFrame\n",
        "myDataFrame.index = days\n",
        "\n",
        "print(\"myDataFrame Dataframe updated with DatatimeIndex values\")\n",
        "print(myDataFrame.head(5))\n",
        "print(\"\")\n"
      ],
      "metadata": {
        "colab": {
          "base_uri": "https://localhost:8080/"
        },
        "id": "KAXovhGvN8Y3",
        "outputId": "57fd4cbb-47bc-42a2-88b4-83d984f9f005"
      },
      "execution_count": null,
      "outputs": [
        {
          "output_type": "stream",
          "name": "stdout",
          "text": [
            "myDataFrame Dataframe with default index values\n",
            "          A         B         C         D\n",
            "0  0.167870 -0.804258  0.830346 -0.163771\n",
            "1 -0.038280 -1.803319 -0.249355  1.485982\n",
            "2 -0.228167  0.328983 -0.255976 -0.000309\n",
            "3 -0.749521  0.434570  0.360341 -0.331434\n",
            "4 -0.146904  0.609702  0.276025  0.251796\n",
            "\n",
            "myDataFrame Dataframe updated with DatatimeIndex values\n",
            "                   A         B         C         D\n",
            "2022-05-25  0.167870 -0.804258  0.830346 -0.163771\n",
            "2022-05-26 -0.038280 -1.803319 -0.249355  1.485982\n",
            "2022-05-27 -0.228167  0.328983 -0.255976 -0.000309\n",
            "2022-05-28 -0.749521  0.434570  0.360341 -0.331434\n",
            "2022-05-29 -0.146904  0.609702  0.276025  0.251796\n",
            "\n"
          ]
        }
      ]
    },
    {
      "cell_type": "markdown",
      "source": [
        "**Accessing values:** similarly to Pandas Series, there are multiple was to access valus in a DataFrame."
      ],
      "metadata": {
        "id": "Oji_6X91P8rb"
      }
    },
    {
      "cell_type": "markdown",
      "source": [
        "**slicing a DataFrames:**\n",
        "\n",
        "```\n",
        "pd.head(n)  # reveal the first n rows\n",
        "```\n",
        "\n",
        "```\n",
        "pd.tail(n)  # reveal the last n rows\n",
        "```"
      ],
      "metadata": {
        "id": "4sRfK8h9QPzq"
      }
    },
    {
      "cell_type": "code",
      "source": [
        "#Often we want to inspect the first or last few rows\n",
        "\n",
        "print(\"The head function reveals the first few rows\")\n",
        "print(nbaDf.head(n=2))\n",
        "\n",
        "print(\"The tail function reveals the last few rows\")\n",
        "print(nbaDf.tail(n=2))"
      ],
      "metadata": {
        "id": "BlEU57DfQnRy",
        "colab": {
          "base_uri": "https://localhost:8080/"
        },
        "outputId": "1c6b5e55-4b8f-4ac8-8906-208ba5f1ca85"
      },
      "execution_count": 10,
      "outputs": [
        {
          "output_type": "stream",
          "name": "stdout",
          "text": [
            "The head function reveals the first few rows\n",
            "            Teams     Season  Wins  Losses\n",
            "0   Atlanta Hawks  2018-2019    29      53\n",
            "1  Boston Celtics  2018-2019    49      33\n",
            "The tail function reveals the last few rows\n",
            "                 Teams     Season  Wins  Losses\n",
            "88           Utah Jazz  2017-2018    48      34\n",
            "89  Washington Wizards  2017-2018    43      39\n"
          ]
        }
      ]
    },
    {
      "cell_type": "markdown",
      "source": [
        "We can reveal all values in a specific column or multiple columns using the column names\n",
        "\n",
        "\n",
        "```\n",
        "myDataFrame['column_name'] # reveal values under column heading 'column_name'\n",
        "```\n",
        "or\n",
        "```\n",
        "myDataFrame.column_name # reveal values under column heading 'column_name'\n",
        "```\n",
        "\n"
      ],
      "metadata": {
        "id": "7MyfpokHQv-E"
      }
    },
    {
      "cell_type": "code",
      "source": [
        "#This code reveals all the values under the column heading Teams\n",
        "\n",
        "print('Approach 1 to reveal the values in the Teams column')\n",
        "print(nbaDf['Teams'])\n",
        "print(\"\")\n",
        "\n",
        "print('Approach 2 to reveal the values of the Teams'\n",
        "      ' column using <nba.Teams>')\n",
        "print(nbaDf.Teams)\n"
      ],
      "metadata": {
        "colab": {
          "base_uri": "https://localhost:8080/"
        },
        "id": "p8eUlQqJQsF4",
        "outputId": "26998225-10f7-45d5-979d-05bd62671231"
      },
      "execution_count": 11,
      "outputs": [
        {
          "output_type": "stream",
          "name": "stdout",
          "text": [
            "Approach 1 to reveal the values in the Teams column\n",
            "0          Atlanta Hawks\n",
            "1         Boston Celtics\n",
            "2          Brooklyn Nets\n",
            "3      Charlotte Hornets\n",
            "4          Chicago Bulls\n",
            "             ...        \n",
            "85      Sacramento Kings\n",
            "86     San Antonio Spurs\n",
            "87       Toronto Raptors\n",
            "88             Utah Jazz\n",
            "89    Washington Wizards\n",
            "Name: Teams, Length: 90, dtype: object\n",
            "\n",
            "Approach 2 to reveal the values of the Teams column using <nba.Teams>\n",
            "0          Atlanta Hawks\n",
            "1         Boston Celtics\n",
            "2          Brooklyn Nets\n",
            "3      Charlotte Hornets\n",
            "4          Chicago Bulls\n",
            "             ...        \n",
            "85      Sacramento Kings\n",
            "86     San Antonio Spurs\n",
            "87       Toronto Raptors\n",
            "88             Utah Jazz\n",
            "89    Washington Wizards\n",
            "Name: Teams, Length: 90, dtype: object\n"
          ]
        }
      ]
    },
    {
      "cell_type": "markdown",
      "source": [
        "**Revealing multiple columns:** if we want to reveal multiple columns, we must specify the names or positions as a list:\n",
        "\n",
        "```\n",
        "myDataFrame[[column_name1, column_name2]] # reveal values under column heading 'column_name1' and 'column_name2'\n",
        "```"
      ],
      "metadata": {
        "id": "uy0y4xR9RwIg"
      }
    },
    {
      "cell_type": "code",
      "source": [
        "'''Use the column names in a list to access the\n",
        "values of multiple columns'''\n",
        "\n",
        "print(\"These are the values of the Teams and Wins \"\n",
        "      \"columns\")\n",
        "# Note that the names are in a list\n",
        "print(nbaDf[['Teams', 'Wins']])\n"
      ],
      "metadata": {
        "colab": {
          "base_uri": "https://localhost:8080/"
        },
        "id": "tVp8pN8TSgof",
        "outputId": "ac6425a4-f432-4f7d-d0b5-fc7e713fae07"
      },
      "execution_count": 16,
      "outputs": [
        {
          "output_type": "stream",
          "name": "stdout",
          "text": [
            "These are the values of the Teams and Wins columns\n",
            "                 Teams  Wins\n",
            "0        Atlanta Hawks    29\n",
            "1       Boston Celtics    49\n",
            "2        Brooklyn Nets    42\n",
            "3    Charlotte Hornets    39\n",
            "4        Chicago Bulls    22\n",
            "..                 ...   ...\n",
            "85    Sacramento Kings    27\n",
            "86   San Antonio Spurs    47\n",
            "87     Toronto Raptors    59\n",
            "88           Utah Jazz    48\n",
            "89  Washington Wizards    43\n",
            "\n",
            "[90 rows x 2 columns]\n"
          ]
        }
      ]
    },
    {
      "cell_type": "code",
      "source": [
        "'''There are two ways to access rows'''\n",
        "print('These are the rows  in the range of 2-4')\n",
        "print('using the index approach')\n",
        "\n",
        "#Note: specify 2:5 if we want the values in 2-4 inclusively\n",
        "print(nbaDf[2:5])\n",
        "print('using the iloc approach')\n",
        "print(nbaDf.iloc[2:5])\n"
      ],
      "metadata": {
        "colab": {
          "base_uri": "https://localhost:8080/"
        },
        "id": "4Gmc7KmtSnv8",
        "outputId": "b79bb9e0-5e0a-4a97-f280-d3b008cd13d2"
      },
      "execution_count": 21,
      "outputs": [
        {
          "output_type": "stream",
          "name": "stdout",
          "text": [
            "These are the rows  in the range of 2-4\n",
            "using the index approach\n",
            "               Teams     Season  Wins  Losses\n",
            "2      Brooklyn Nets  2018-2019    42      40\n",
            "3  Charlotte Hornets  2018-2019    39      43\n",
            "4      Chicago Bulls  2018-2019    22      60\n",
            "using the iloc approach\n",
            "               Teams     Season  Wins  Losses\n",
            "2      Brooklyn Nets  2018-2019    42      40\n",
            "3  Charlotte Hornets  2018-2019    39      43\n",
            "4      Chicago Bulls  2018-2019    22      60\n"
          ]
        }
      ]
    },
    {
      "cell_type": "code",
      "source": [
        "#Non-sequential rows\n",
        "print('These are the rows in the range of 2,5,1')\n",
        "print(nbaDf.iloc[[2, 5, 1]])\n"
      ],
      "metadata": {
        "colab": {
          "base_uri": "https://localhost:8080/"
        },
        "id": "el2UYMuPSuU5",
        "outputId": "c506d0b6-3437-40ba-ab3b-2ed6ad802ad9"
      },
      "execution_count": 22,
      "outputs": [
        {
          "output_type": "stream",
          "name": "stdout",
          "text": [
            "These are the rows in the range of 2,5,1\n",
            "                 Teams     Season  Wins  Losses\n",
            "2        Brooklyn Nets  2018-2019    42      40\n",
            "5  Cleveland Cavaliers  2018-2019    19      63\n",
            "1       Boston Celtics  2018-2019    49      33\n"
          ]
        }
      ]
    },
    {
      "cell_type": "markdown",
      "source": [
        "**Accessing a subset of Rows and Columns:** we often want to access a subset of rows and columns.\n",
        "\n",
        "To achieve this with the *row and column positions*, we must use the Pandas ```iloc``` function\n",
        "\n",
        "To achieve this with the *row and column names*, we must use the Pandas ```loc``` function\n"
      ],
      "metadata": {
        "id": "iIXzppb5Szuv"
      }
    },
    {
      "cell_type": "code",
      "source": [
        "'''Use iloc if you want to access a subset of\n",
        "rows and columns by number'''\n",
        "\n",
        "print('The Team names and Wins in the columns 2 -4')\n",
        "print(nbaDf.iloc[2:5, [0, 2]])\n"
      ],
      "metadata": {
        "colab": {
          "base_uri": "https://localhost:8080/"
        },
        "id": "R2PmTU2kTOPS",
        "outputId": "adaa91a5-db6d-46e9-83f1-9516f453f234"
      },
      "execution_count": 23,
      "outputs": [
        {
          "output_type": "stream",
          "name": "stdout",
          "text": [
            "The Team names and Wins in the columns 2 -4\n",
            "               Teams  Wins\n",
            "2      Brooklyn Nets    42\n",
            "3  Charlotte Hornets    39\n",
            "4      Chicago Bulls    22\n"
          ]
        }
      ]
    },
    {
      "cell_type": "code",
      "source": [
        "'''Use loc if you want to access a subset of\n",
        "rows and columns by name'''\n",
        "\n",
        "print('The Team names, Season, and Wins in the '\n",
        "      'row number 1 and 2')\n",
        "# Note: slicing by values includes the last element\n",
        "print(nbaDf.loc[[1, 2], 'Teams':'Wins'])"
      ],
      "metadata": {
        "colab": {
          "base_uri": "https://localhost:8080/"
        },
        "id": "3hYHBa6OTUsV",
        "outputId": "de1c458d-99cc-4322-c295-46b3cb6a990d"
      },
      "execution_count": 24,
      "outputs": [
        {
          "output_type": "stream",
          "name": "stdout",
          "text": [
            "The Team names, Season, and Wins in the row number 1 and 2\n",
            "            Teams     Season  Wins\n",
            "1  Boston Celtics  2018-2019    49\n",
            "2   Brooklyn Nets  2018-2019    42\n"
          ]
        }
      ]
    },
    {
      "cell_type": "code",
      "source": [
        "# nbaDf.Wins\n",
        "# nbaDf['Teams', 'Wins']\n",
        "# nbaDf[:5]\n",
        "# nbaDf.iloc[1:4]\n",
        "# nbaDf.iloc[:, 'Teams':'Losses']\n",
        "# nbaDf.iloc[:3, [1, 2]]\n",
        "# nbaDf.loc[:, 'Teams':'Losses']"
      ],
      "metadata": {
        "colab": {
          "base_uri": "https://localhost:8080/",
          "height": 444
        },
        "id": "Fb_OwsbUzqOY",
        "outputId": "83becb84-1b3d-4c87-ac84-fa8749e75527"
      },
      "execution_count": 41,
      "outputs": [
        {
          "output_type": "execute_result",
          "data": {
            "text/plain": [
              "                 Teams     Season  Wins  Losses\n",
              "0        Atlanta Hawks  2018-2019    29      53\n",
              "1       Boston Celtics  2018-2019    49      33\n",
              "2        Brooklyn Nets  2018-2019    42      40\n",
              "3    Charlotte Hornets  2018-2019    39      43\n",
              "4        Chicago Bulls  2018-2019    22      60\n",
              "..                 ...        ...   ...     ...\n",
              "85    Sacramento Kings  2017-2018    27      55\n",
              "86   San Antonio Spurs  2017-2018    47      35\n",
              "87     Toronto Raptors  2017-2018    59      23\n",
              "88           Utah Jazz  2017-2018    48      34\n",
              "89  Washington Wizards  2017-2018    43      39\n",
              "\n",
              "[90 rows x 4 columns]"
            ],
            "text/html": [
              "\n",
              "  <div id=\"df-5283667e-ec57-43a8-9a91-e6a1bc213dc3\" class=\"colab-df-container\">\n",
              "    <div>\n",
              "<style scoped>\n",
              "    .dataframe tbody tr th:only-of-type {\n",
              "        vertical-align: middle;\n",
              "    }\n",
              "\n",
              "    .dataframe tbody tr th {\n",
              "        vertical-align: top;\n",
              "    }\n",
              "\n",
              "    .dataframe thead th {\n",
              "        text-align: right;\n",
              "    }\n",
              "</style>\n",
              "<table border=\"1\" class=\"dataframe\">\n",
              "  <thead>\n",
              "    <tr style=\"text-align: right;\">\n",
              "      <th></th>\n",
              "      <th>Teams</th>\n",
              "      <th>Season</th>\n",
              "      <th>Wins</th>\n",
              "      <th>Losses</th>\n",
              "    </tr>\n",
              "  </thead>\n",
              "  <tbody>\n",
              "    <tr>\n",
              "      <th>0</th>\n",
              "      <td>Atlanta Hawks</td>\n",
              "      <td>2018-2019</td>\n",
              "      <td>29</td>\n",
              "      <td>53</td>\n",
              "    </tr>\n",
              "    <tr>\n",
              "      <th>1</th>\n",
              "      <td>Boston Celtics</td>\n",
              "      <td>2018-2019</td>\n",
              "      <td>49</td>\n",
              "      <td>33</td>\n",
              "    </tr>\n",
              "    <tr>\n",
              "      <th>2</th>\n",
              "      <td>Brooklyn Nets</td>\n",
              "      <td>2018-2019</td>\n",
              "      <td>42</td>\n",
              "      <td>40</td>\n",
              "    </tr>\n",
              "    <tr>\n",
              "      <th>3</th>\n",
              "      <td>Charlotte Hornets</td>\n",
              "      <td>2018-2019</td>\n",
              "      <td>39</td>\n",
              "      <td>43</td>\n",
              "    </tr>\n",
              "    <tr>\n",
              "      <th>4</th>\n",
              "      <td>Chicago Bulls</td>\n",
              "      <td>2018-2019</td>\n",
              "      <td>22</td>\n",
              "      <td>60</td>\n",
              "    </tr>\n",
              "    <tr>\n",
              "      <th>...</th>\n",
              "      <td>...</td>\n",
              "      <td>...</td>\n",
              "      <td>...</td>\n",
              "      <td>...</td>\n",
              "    </tr>\n",
              "    <tr>\n",
              "      <th>85</th>\n",
              "      <td>Sacramento Kings</td>\n",
              "      <td>2017-2018</td>\n",
              "      <td>27</td>\n",
              "      <td>55</td>\n",
              "    </tr>\n",
              "    <tr>\n",
              "      <th>86</th>\n",
              "      <td>San Antonio Spurs</td>\n",
              "      <td>2017-2018</td>\n",
              "      <td>47</td>\n",
              "      <td>35</td>\n",
              "    </tr>\n",
              "    <tr>\n",
              "      <th>87</th>\n",
              "      <td>Toronto Raptors</td>\n",
              "      <td>2017-2018</td>\n",
              "      <td>59</td>\n",
              "      <td>23</td>\n",
              "    </tr>\n",
              "    <tr>\n",
              "      <th>88</th>\n",
              "      <td>Utah Jazz</td>\n",
              "      <td>2017-2018</td>\n",
              "      <td>48</td>\n",
              "      <td>34</td>\n",
              "    </tr>\n",
              "    <tr>\n",
              "      <th>89</th>\n",
              "      <td>Washington Wizards</td>\n",
              "      <td>2017-2018</td>\n",
              "      <td>43</td>\n",
              "      <td>39</td>\n",
              "    </tr>\n",
              "  </tbody>\n",
              "</table>\n",
              "<p>90 rows × 4 columns</p>\n",
              "</div>\n",
              "    <div class=\"colab-df-buttons\">\n",
              "\n",
              "  <div class=\"colab-df-container\">\n",
              "    <button class=\"colab-df-convert\" onclick=\"convertToInteractive('df-5283667e-ec57-43a8-9a91-e6a1bc213dc3')\"\n",
              "            title=\"Convert this dataframe to an interactive table.\"\n",
              "            style=\"display:none;\">\n",
              "\n",
              "  <svg xmlns=\"http://www.w3.org/2000/svg\" height=\"24px\" viewBox=\"0 -960 960 960\">\n",
              "    <path d=\"M120-120v-720h720v720H120Zm60-500h600v-160H180v160Zm220 220h160v-160H400v160Zm0 220h160v-160H400v160ZM180-400h160v-160H180v160Zm440 0h160v-160H620v160ZM180-180h160v-160H180v160Zm440 0h160v-160H620v160Z\"/>\n",
              "  </svg>\n",
              "    </button>\n",
              "\n",
              "  <style>\n",
              "    .colab-df-container {\n",
              "      display:flex;\n",
              "      gap: 12px;\n",
              "    }\n",
              "\n",
              "    .colab-df-convert {\n",
              "      background-color: #E8F0FE;\n",
              "      border: none;\n",
              "      border-radius: 50%;\n",
              "      cursor: pointer;\n",
              "      display: none;\n",
              "      fill: #1967D2;\n",
              "      height: 32px;\n",
              "      padding: 0 0 0 0;\n",
              "      width: 32px;\n",
              "    }\n",
              "\n",
              "    .colab-df-convert:hover {\n",
              "      background-color: #E2EBFA;\n",
              "      box-shadow: 0px 1px 2px rgba(60, 64, 67, 0.3), 0px 1px 3px 1px rgba(60, 64, 67, 0.15);\n",
              "      fill: #174EA6;\n",
              "    }\n",
              "\n",
              "    .colab-df-buttons div {\n",
              "      margin-bottom: 4px;\n",
              "    }\n",
              "\n",
              "    [theme=dark] .colab-df-convert {\n",
              "      background-color: #3B4455;\n",
              "      fill: #D2E3FC;\n",
              "    }\n",
              "\n",
              "    [theme=dark] .colab-df-convert:hover {\n",
              "      background-color: #434B5C;\n",
              "      box-shadow: 0px 1px 3px 1px rgba(0, 0, 0, 0.15);\n",
              "      filter: drop-shadow(0px 1px 2px rgba(0, 0, 0, 0.3));\n",
              "      fill: #FFFFFF;\n",
              "    }\n",
              "  </style>\n",
              "\n",
              "    <script>\n",
              "      const buttonEl =\n",
              "        document.querySelector('#df-5283667e-ec57-43a8-9a91-e6a1bc213dc3 button.colab-df-convert');\n",
              "      buttonEl.style.display =\n",
              "        google.colab.kernel.accessAllowed ? 'block' : 'none';\n",
              "\n",
              "      async function convertToInteractive(key) {\n",
              "        const element = document.querySelector('#df-5283667e-ec57-43a8-9a91-e6a1bc213dc3');\n",
              "        const dataTable =\n",
              "          await google.colab.kernel.invokeFunction('convertToInteractive',\n",
              "                                                    [key], {});\n",
              "        if (!dataTable) return;\n",
              "\n",
              "        const docLinkHtml = 'Like what you see? Visit the ' +\n",
              "          '<a target=\"_blank\" href=https://colab.research.google.com/notebooks/data_table.ipynb>data table notebook</a>'\n",
              "          + ' to learn more about interactive tables.';\n",
              "        element.innerHTML = '';\n",
              "        dataTable['output_type'] = 'display_data';\n",
              "        await google.colab.output.renderOutput(dataTable, element);\n",
              "        const docLink = document.createElement('div');\n",
              "        docLink.innerHTML = docLinkHtml;\n",
              "        element.appendChild(docLink);\n",
              "      }\n",
              "    </script>\n",
              "  </div>\n",
              "\n",
              "\n",
              "<div id=\"df-bea1f524-1377-4991-ab66-6013f5b4ad07\">\n",
              "  <button class=\"colab-df-quickchart\" onclick=\"quickchart('df-bea1f524-1377-4991-ab66-6013f5b4ad07')\"\n",
              "            title=\"Suggest charts.\"\n",
              "            style=\"display:none;\">\n",
              "\n",
              "<svg xmlns=\"http://www.w3.org/2000/svg\" height=\"24px\"viewBox=\"0 0 24 24\"\n",
              "     width=\"24px\">\n",
              "    <g>\n",
              "        <path d=\"M19 3H5c-1.1 0-2 .9-2 2v14c0 1.1.9 2 2 2h14c1.1 0 2-.9 2-2V5c0-1.1-.9-2-2-2zM9 17H7v-7h2v7zm4 0h-2V7h2v10zm4 0h-2v-4h2v4z\"/>\n",
              "    </g>\n",
              "</svg>\n",
              "  </button>\n",
              "\n",
              "<style>\n",
              "  .colab-df-quickchart {\n",
              "      --bg-color: #E8F0FE;\n",
              "      --fill-color: #1967D2;\n",
              "      --hover-bg-color: #E2EBFA;\n",
              "      --hover-fill-color: #174EA6;\n",
              "      --disabled-fill-color: #AAA;\n",
              "      --disabled-bg-color: #DDD;\n",
              "  }\n",
              "\n",
              "  [theme=dark] .colab-df-quickchart {\n",
              "      --bg-color: #3B4455;\n",
              "      --fill-color: #D2E3FC;\n",
              "      --hover-bg-color: #434B5C;\n",
              "      --hover-fill-color: #FFFFFF;\n",
              "      --disabled-bg-color: #3B4455;\n",
              "      --disabled-fill-color: #666;\n",
              "  }\n",
              "\n",
              "  .colab-df-quickchart {\n",
              "    background-color: var(--bg-color);\n",
              "    border: none;\n",
              "    border-radius: 50%;\n",
              "    cursor: pointer;\n",
              "    display: none;\n",
              "    fill: var(--fill-color);\n",
              "    height: 32px;\n",
              "    padding: 0;\n",
              "    width: 32px;\n",
              "  }\n",
              "\n",
              "  .colab-df-quickchart:hover {\n",
              "    background-color: var(--hover-bg-color);\n",
              "    box-shadow: 0 1px 2px rgba(60, 64, 67, 0.3), 0 1px 3px 1px rgba(60, 64, 67, 0.15);\n",
              "    fill: var(--button-hover-fill-color);\n",
              "  }\n",
              "\n",
              "  .colab-df-quickchart-complete:disabled,\n",
              "  .colab-df-quickchart-complete:disabled:hover {\n",
              "    background-color: var(--disabled-bg-color);\n",
              "    fill: var(--disabled-fill-color);\n",
              "    box-shadow: none;\n",
              "  }\n",
              "\n",
              "  .colab-df-spinner {\n",
              "    border: 2px solid var(--fill-color);\n",
              "    border-color: transparent;\n",
              "    border-bottom-color: var(--fill-color);\n",
              "    animation:\n",
              "      spin 1s steps(1) infinite;\n",
              "  }\n",
              "\n",
              "  @keyframes spin {\n",
              "    0% {\n",
              "      border-color: transparent;\n",
              "      border-bottom-color: var(--fill-color);\n",
              "      border-left-color: var(--fill-color);\n",
              "    }\n",
              "    20% {\n",
              "      border-color: transparent;\n",
              "      border-left-color: var(--fill-color);\n",
              "      border-top-color: var(--fill-color);\n",
              "    }\n",
              "    30% {\n",
              "      border-color: transparent;\n",
              "      border-left-color: var(--fill-color);\n",
              "      border-top-color: var(--fill-color);\n",
              "      border-right-color: var(--fill-color);\n",
              "    }\n",
              "    40% {\n",
              "      border-color: transparent;\n",
              "      border-right-color: var(--fill-color);\n",
              "      border-top-color: var(--fill-color);\n",
              "    }\n",
              "    60% {\n",
              "      border-color: transparent;\n",
              "      border-right-color: var(--fill-color);\n",
              "    }\n",
              "    80% {\n",
              "      border-color: transparent;\n",
              "      border-right-color: var(--fill-color);\n",
              "      border-bottom-color: var(--fill-color);\n",
              "    }\n",
              "    90% {\n",
              "      border-color: transparent;\n",
              "      border-bottom-color: var(--fill-color);\n",
              "    }\n",
              "  }\n",
              "</style>\n",
              "\n",
              "  <script>\n",
              "    async function quickchart(key) {\n",
              "      const quickchartButtonEl =\n",
              "        document.querySelector('#' + key + ' button');\n",
              "      quickchartButtonEl.disabled = true;  // To prevent multiple clicks.\n",
              "      quickchartButtonEl.classList.add('colab-df-spinner');\n",
              "      try {\n",
              "        const charts = await google.colab.kernel.invokeFunction(\n",
              "            'suggestCharts', [key], {});\n",
              "      } catch (error) {\n",
              "        console.error('Error during call to suggestCharts:', error);\n",
              "      }\n",
              "      quickchartButtonEl.classList.remove('colab-df-spinner');\n",
              "      quickchartButtonEl.classList.add('colab-df-quickchart-complete');\n",
              "    }\n",
              "    (() => {\n",
              "      let quickchartButtonEl =\n",
              "        document.querySelector('#df-bea1f524-1377-4991-ab66-6013f5b4ad07 button');\n",
              "      quickchartButtonEl.style.display =\n",
              "        google.colab.kernel.accessAllowed ? 'block' : 'none';\n",
              "    })();\n",
              "  </script>\n",
              "</div>\n",
              "    </div>\n",
              "  </div>\n"
            ]
          },
          "metadata": {},
          "execution_count": 41
        }
      ]
    },
    {
      "cell_type": "markdown",
      "source": [
        "**Accessing rows and columns that satify a condition:** when we have a very large DataFrame, we may be interested in seeing only cases were a certain condition is met, such as a year or number of occurrences"
      ],
      "metadata": {
        "id": "DLygfhNOTvWJ"
      }
    },
    {
      "cell_type": "code",
      "source": [
        "'''Often we want to access a subset of rows based\n",
        "the cell values'''\n",
        "\n",
        "print(\"All of the rows for season 2018-2019 with\"\n",
        "      \" wins greater than 55\")\n",
        "print(nbaDf[(nbaDf.Season == '2018-2019') &\n",
        "            (nbaDf.Wins > 55)])\n",
        "# or\n",
        "# nbaDf.loc[(nbaDf.Season == '2018-2019') &\n",
        "#             (nbaDf.Wins > 55)]"
      ],
      "metadata": {
        "colab": {
          "base_uri": "https://localhost:8080/",
          "height": 250
        },
        "id": "WjiBwQszUb5x",
        "outputId": "bb239d3c-d77a-419b-9d42-8bc02cafbe97"
      },
      "execution_count": 49,
      "outputs": [
        {
          "output_type": "stream",
          "name": "stdout",
          "text": [
            "All of the rows for season 2018-2019 with wins greater than 55\n",
            "                    Teams     Season  Wins  Losses\n",
            "9   Golden State Warriors  2018-2019    57      25\n",
            "16        Milwaukee Bucks  2018-2019    60      22\n",
            "27        Toronto Raptors  2018-2019    58      24\n"
          ]
        },
        {
          "output_type": "execute_result",
          "data": {
            "text/plain": [
              "                    Teams     Season  Wins  Losses\n",
              "9   Golden State Warriors  2018-2019    57      25\n",
              "16        Milwaukee Bucks  2018-2019    60      22\n",
              "27        Toronto Raptors  2018-2019    58      24"
            ],
            "text/html": [
              "\n",
              "  <div id=\"df-264dbe0d-a36c-41ba-87e1-179e8c0cc71f\" class=\"colab-df-container\">\n",
              "    <div>\n",
              "<style scoped>\n",
              "    .dataframe tbody tr th:only-of-type {\n",
              "        vertical-align: middle;\n",
              "    }\n",
              "\n",
              "    .dataframe tbody tr th {\n",
              "        vertical-align: top;\n",
              "    }\n",
              "\n",
              "    .dataframe thead th {\n",
              "        text-align: right;\n",
              "    }\n",
              "</style>\n",
              "<table border=\"1\" class=\"dataframe\">\n",
              "  <thead>\n",
              "    <tr style=\"text-align: right;\">\n",
              "      <th></th>\n",
              "      <th>Teams</th>\n",
              "      <th>Season</th>\n",
              "      <th>Wins</th>\n",
              "      <th>Losses</th>\n",
              "    </tr>\n",
              "  </thead>\n",
              "  <tbody>\n",
              "    <tr>\n",
              "      <th>9</th>\n",
              "      <td>Golden State Warriors</td>\n",
              "      <td>2018-2019</td>\n",
              "      <td>57</td>\n",
              "      <td>25</td>\n",
              "    </tr>\n",
              "    <tr>\n",
              "      <th>16</th>\n",
              "      <td>Milwaukee Bucks</td>\n",
              "      <td>2018-2019</td>\n",
              "      <td>60</td>\n",
              "      <td>22</td>\n",
              "    </tr>\n",
              "    <tr>\n",
              "      <th>27</th>\n",
              "      <td>Toronto Raptors</td>\n",
              "      <td>2018-2019</td>\n",
              "      <td>58</td>\n",
              "      <td>24</td>\n",
              "    </tr>\n",
              "  </tbody>\n",
              "</table>\n",
              "</div>\n",
              "    <div class=\"colab-df-buttons\">\n",
              "\n",
              "  <div class=\"colab-df-container\">\n",
              "    <button class=\"colab-df-convert\" onclick=\"convertToInteractive('df-264dbe0d-a36c-41ba-87e1-179e8c0cc71f')\"\n",
              "            title=\"Convert this dataframe to an interactive table.\"\n",
              "            style=\"display:none;\">\n",
              "\n",
              "  <svg xmlns=\"http://www.w3.org/2000/svg\" height=\"24px\" viewBox=\"0 -960 960 960\">\n",
              "    <path d=\"M120-120v-720h720v720H120Zm60-500h600v-160H180v160Zm220 220h160v-160H400v160Zm0 220h160v-160H400v160ZM180-400h160v-160H180v160Zm440 0h160v-160H620v160ZM180-180h160v-160H180v160Zm440 0h160v-160H620v160Z\"/>\n",
              "  </svg>\n",
              "    </button>\n",
              "\n",
              "  <style>\n",
              "    .colab-df-container {\n",
              "      display:flex;\n",
              "      gap: 12px;\n",
              "    }\n",
              "\n",
              "    .colab-df-convert {\n",
              "      background-color: #E8F0FE;\n",
              "      border: none;\n",
              "      border-radius: 50%;\n",
              "      cursor: pointer;\n",
              "      display: none;\n",
              "      fill: #1967D2;\n",
              "      height: 32px;\n",
              "      padding: 0 0 0 0;\n",
              "      width: 32px;\n",
              "    }\n",
              "\n",
              "    .colab-df-convert:hover {\n",
              "      background-color: #E2EBFA;\n",
              "      box-shadow: 0px 1px 2px rgba(60, 64, 67, 0.3), 0px 1px 3px 1px rgba(60, 64, 67, 0.15);\n",
              "      fill: #174EA6;\n",
              "    }\n",
              "\n",
              "    .colab-df-buttons div {\n",
              "      margin-bottom: 4px;\n",
              "    }\n",
              "\n",
              "    [theme=dark] .colab-df-convert {\n",
              "      background-color: #3B4455;\n",
              "      fill: #D2E3FC;\n",
              "    }\n",
              "\n",
              "    [theme=dark] .colab-df-convert:hover {\n",
              "      background-color: #434B5C;\n",
              "      box-shadow: 0px 1px 3px 1px rgba(0, 0, 0, 0.15);\n",
              "      filter: drop-shadow(0px 1px 2px rgba(0, 0, 0, 0.3));\n",
              "      fill: #FFFFFF;\n",
              "    }\n",
              "  </style>\n",
              "\n",
              "    <script>\n",
              "      const buttonEl =\n",
              "        document.querySelector('#df-264dbe0d-a36c-41ba-87e1-179e8c0cc71f button.colab-df-convert');\n",
              "      buttonEl.style.display =\n",
              "        google.colab.kernel.accessAllowed ? 'block' : 'none';\n",
              "\n",
              "      async function convertToInteractive(key) {\n",
              "        const element = document.querySelector('#df-264dbe0d-a36c-41ba-87e1-179e8c0cc71f');\n",
              "        const dataTable =\n",
              "          await google.colab.kernel.invokeFunction('convertToInteractive',\n",
              "                                                    [key], {});\n",
              "        if (!dataTable) return;\n",
              "\n",
              "        const docLinkHtml = 'Like what you see? Visit the ' +\n",
              "          '<a target=\"_blank\" href=https://colab.research.google.com/notebooks/data_table.ipynb>data table notebook</a>'\n",
              "          + ' to learn more about interactive tables.';\n",
              "        element.innerHTML = '';\n",
              "        dataTable['output_type'] = 'display_data';\n",
              "        await google.colab.output.renderOutput(dataTable, element);\n",
              "        const docLink = document.createElement('div');\n",
              "        docLink.innerHTML = docLinkHtml;\n",
              "        element.appendChild(docLink);\n",
              "      }\n",
              "    </script>\n",
              "  </div>\n",
              "\n",
              "\n",
              "<div id=\"df-f28118fe-3cfd-4f24-82cc-fc6efc1bee87\">\n",
              "  <button class=\"colab-df-quickchart\" onclick=\"quickchart('df-f28118fe-3cfd-4f24-82cc-fc6efc1bee87')\"\n",
              "            title=\"Suggest charts.\"\n",
              "            style=\"display:none;\">\n",
              "\n",
              "<svg xmlns=\"http://www.w3.org/2000/svg\" height=\"24px\"viewBox=\"0 0 24 24\"\n",
              "     width=\"24px\">\n",
              "    <g>\n",
              "        <path d=\"M19 3H5c-1.1 0-2 .9-2 2v14c0 1.1.9 2 2 2h14c1.1 0 2-.9 2-2V5c0-1.1-.9-2-2-2zM9 17H7v-7h2v7zm4 0h-2V7h2v10zm4 0h-2v-4h2v4z\"/>\n",
              "    </g>\n",
              "</svg>\n",
              "  </button>\n",
              "\n",
              "<style>\n",
              "  .colab-df-quickchart {\n",
              "      --bg-color: #E8F0FE;\n",
              "      --fill-color: #1967D2;\n",
              "      --hover-bg-color: #E2EBFA;\n",
              "      --hover-fill-color: #174EA6;\n",
              "      --disabled-fill-color: #AAA;\n",
              "      --disabled-bg-color: #DDD;\n",
              "  }\n",
              "\n",
              "  [theme=dark] .colab-df-quickchart {\n",
              "      --bg-color: #3B4455;\n",
              "      --fill-color: #D2E3FC;\n",
              "      --hover-bg-color: #434B5C;\n",
              "      --hover-fill-color: #FFFFFF;\n",
              "      --disabled-bg-color: #3B4455;\n",
              "      --disabled-fill-color: #666;\n",
              "  }\n",
              "\n",
              "  .colab-df-quickchart {\n",
              "    background-color: var(--bg-color);\n",
              "    border: none;\n",
              "    border-radius: 50%;\n",
              "    cursor: pointer;\n",
              "    display: none;\n",
              "    fill: var(--fill-color);\n",
              "    height: 32px;\n",
              "    padding: 0;\n",
              "    width: 32px;\n",
              "  }\n",
              "\n",
              "  .colab-df-quickchart:hover {\n",
              "    background-color: var(--hover-bg-color);\n",
              "    box-shadow: 0 1px 2px rgba(60, 64, 67, 0.3), 0 1px 3px 1px rgba(60, 64, 67, 0.15);\n",
              "    fill: var(--button-hover-fill-color);\n",
              "  }\n",
              "\n",
              "  .colab-df-quickchart-complete:disabled,\n",
              "  .colab-df-quickchart-complete:disabled:hover {\n",
              "    background-color: var(--disabled-bg-color);\n",
              "    fill: var(--disabled-fill-color);\n",
              "    box-shadow: none;\n",
              "  }\n",
              "\n",
              "  .colab-df-spinner {\n",
              "    border: 2px solid var(--fill-color);\n",
              "    border-color: transparent;\n",
              "    border-bottom-color: var(--fill-color);\n",
              "    animation:\n",
              "      spin 1s steps(1) infinite;\n",
              "  }\n",
              "\n",
              "  @keyframes spin {\n",
              "    0% {\n",
              "      border-color: transparent;\n",
              "      border-bottom-color: var(--fill-color);\n",
              "      border-left-color: var(--fill-color);\n",
              "    }\n",
              "    20% {\n",
              "      border-color: transparent;\n",
              "      border-left-color: var(--fill-color);\n",
              "      border-top-color: var(--fill-color);\n",
              "    }\n",
              "    30% {\n",
              "      border-color: transparent;\n",
              "      border-left-color: var(--fill-color);\n",
              "      border-top-color: var(--fill-color);\n",
              "      border-right-color: var(--fill-color);\n",
              "    }\n",
              "    40% {\n",
              "      border-color: transparent;\n",
              "      border-right-color: var(--fill-color);\n",
              "      border-top-color: var(--fill-color);\n",
              "    }\n",
              "    60% {\n",
              "      border-color: transparent;\n",
              "      border-right-color: var(--fill-color);\n",
              "    }\n",
              "    80% {\n",
              "      border-color: transparent;\n",
              "      border-right-color: var(--fill-color);\n",
              "      border-bottom-color: var(--fill-color);\n",
              "    }\n",
              "    90% {\n",
              "      border-color: transparent;\n",
              "      border-bottom-color: var(--fill-color);\n",
              "    }\n",
              "  }\n",
              "</style>\n",
              "\n",
              "  <script>\n",
              "    async function quickchart(key) {\n",
              "      const quickchartButtonEl =\n",
              "        document.querySelector('#' + key + ' button');\n",
              "      quickchartButtonEl.disabled = true;  // To prevent multiple clicks.\n",
              "      quickchartButtonEl.classList.add('colab-df-spinner');\n",
              "      try {\n",
              "        const charts = await google.colab.kernel.invokeFunction(\n",
              "            'suggestCharts', [key], {});\n",
              "      } catch (error) {\n",
              "        console.error('Error during call to suggestCharts:', error);\n",
              "      }\n",
              "      quickchartButtonEl.classList.remove('colab-df-spinner');\n",
              "      quickchartButtonEl.classList.add('colab-df-quickchart-complete');\n",
              "    }\n",
              "    (() => {\n",
              "      let quickchartButtonEl =\n",
              "        document.querySelector('#df-f28118fe-3cfd-4f24-82cc-fc6efc1bee87 button');\n",
              "      quickchartButtonEl.style.display =\n",
              "        google.colab.kernel.accessAllowed ? 'block' : 'none';\n",
              "    })();\n",
              "  </script>\n",
              "</div>\n",
              "    </div>\n",
              "  </div>\n"
            ]
          },
          "metadata": {},
          "execution_count": 49
        }
      ]
    },
    {
      "cell_type": "markdown",
      "source": [
        "**Sorting a DataFrame:** during the data analysis process, we often want to sort our DataFrame to see rows with the highest or lowest values, etc."
      ],
      "metadata": {
        "id": "cUDqqXsDUis4"
      }
    },
    {
      "cell_type": "code",
      "source": [
        "''' We often need to sort a DataFrame. You can\n",
        "sort based on the column names and row indices or\n",
        "cell values'''\n",
        "\n",
        "# Use sort_index to sort by column / row names\n",
        "print(\"The sort by the index and return the first \"\n",
        "      \"3 rows\")\n",
        "print(\"nbaDf.sort_index(axis=0).head(3)\")\n",
        "print(nbaDf.sort_index(axis=0).head(3))\n",
        "print(\"\")\n",
        "\n",
        "print(\"The sort by the column name and return the \"\n",
        "      \"first 3 rows\")\n",
        "print(\"nbaDf.sort_index(axis=1).head(3)\")\n",
        "print(nbaDf.sort_index(axis=1).head(3))\n",
        "print(\"\")\n",
        "\n",
        "\n",
        "# Sort by the value of the cells in one or more columns\n",
        "print('Sort the rows based on the number of wins')\n",
        "# Notice that the default is ascending order\n",
        "print(\"nbaDf.sort_values('Wins')\")\n",
        "print(nbaDf.sort_values('Wins'))"
      ],
      "metadata": {
        "colab": {
          "base_uri": "https://localhost:8080/"
        },
        "id": "mnrJVK9QU21_",
        "outputId": "203e6810-2591-4bdc-b8cb-5acd8bc1545a"
      },
      "execution_count": 53,
      "outputs": [
        {
          "output_type": "stream",
          "name": "stdout",
          "text": [
            "The sort by the index and return the first 3 rows\n",
            "nbaDf.sort_index(axis=0).head(3)\n",
            "            Teams     Season  Wins  Losses\n",
            "0   Atlanta Hawks  2018-2019    29      53\n",
            "1  Boston Celtics  2018-2019    49      33\n",
            "2   Brooklyn Nets  2018-2019    42      40\n",
            "\n",
            "The sort by the column name and return the first 3 rows\n",
            "nbaDf.sort_index(axis=1).head(3)\n",
            "   Losses     Season           Teams  Wins\n",
            "0      53  2018-2019   Atlanta Hawks    29\n",
            "1      33  2018-2019  Boston Celtics    49\n",
            "2      40  2018-2019   Brooklyn Nets    42\n",
            "\n",
            "Sort the rows based on the number of wins\n",
            "nbaDf.sort_values('Wins')\n",
            "                    Teams     Season  Wins  Losses\n",
            "19        New York Knicks  2018-2019    17      65\n",
            "5     Cleveland Cavaliers  2018-2019    19      63\n",
            "23           Phoenix Suns  2018-2019    19      63\n",
            "32          Brooklyn Nets  2016-2017    20      62\n",
            "83           Phoenix Suns  2017-2018    21      61\n",
            "..                    ...        ...   ...     ...\n",
            "87        Toronto Raptors  2017-2018    59      23\n",
            "16        Milwaukee Bucks  2018-2019    60      22\n",
            "56      San Antonio Spurs  2016-2017    61      21\n",
            "70        Houston Rockets  2017-2018    65      17\n",
            "39  Golden State Warriors  2016-2017    67      15\n",
            "\n",
            "[90 rows x 4 columns]\n"
          ]
        }
      ]
    },
    {
      "cell_type": "markdown",
      "source": [
        "**Add and removing rows / columns to the DataFrames:** to add a column to an existing DataFrame specify the new column name and set equal to a list or NumPy array of values:\n",
        "\n",
        "\n",
        "```\n",
        "myDataFrame['new_column_name'] = [1,2,3]  \n",
        "```\n",
        "This adds a new column to the DataFrame myDataFrame with column heading 'new_column_name' and values equal to the list [1,2,3]\n",
        "\n"
      ],
      "metadata": {
        "id": "RL82iqllV7Z3"
      }
    },
    {
      "cell_type": "code",
      "source": [
        "''' It is often necessary to add or remove rows\n",
        "and / or columns from an existing DataFrame'''\n",
        "\n",
        "#This is an example of creating a DataFrame from a Dictionary\n",
        "\n",
        "#Create the dictionary.\n",
        "myData2 = {'name': ['Sam', 'Mel', 'Mo', 'Ale', 'Jo'],\n",
        "           'year': [2020, 2020, 2021, 2021, 2022],\n",
        "           'reports': [6, 13, 14, 1, 7]}\n",
        "print(\"The Dictionary is:\")\n",
        "print(myData2)\n",
        "print(\"\")\n",
        "\n",
        "#The Dictionary keys will become column names in the DataFrame\n",
        "#The Dictionary values row values in the DataFrame\n",
        "#Create the DataFrame from the Dictionary and specify index values\n",
        "myDataFrame2 = pd.DataFrame(myData2,\n",
        "                            index=['Singapore',\n",
        "                                   'China',\n",
        "                                   'Japan',\n",
        "                                   'Spain',\n",
        "                                   'Egypt'])\n",
        "\n",
        "\n",
        "\n",
        "print(\"myDataFrame2 is:\")\n",
        "print(myDataFrame2)\n",
        "print(\"\")"
      ],
      "metadata": {
        "colab": {
          "base_uri": "https://localhost:8080/"
        },
        "id": "l1irnDF-Wol6",
        "outputId": "836067d3-61c4-4a7b-bba7-ca7492069d53"
      },
      "execution_count": 54,
      "outputs": [
        {
          "output_type": "stream",
          "name": "stdout",
          "text": [
            "The Dictionary is:\n",
            "{'name': ['Sam', 'Mel', 'Mo', 'Ale', 'Jo'], 'year': [2020, 2020, 2021, 2021, 2022], 'reports': [6, 13, 14, 1, 7]}\n",
            "\n",
            "myDataFrame2 is:\n",
            "          name  year  reports\n",
            "Singapore  Sam  2020        6\n",
            "China      Mel  2020       13\n",
            "Japan       Mo  2021       14\n",
            "Spain      Ale  2021        1\n",
            "Egypt       Jo  2022        7\n",
            "\n"
          ]
        }
      ]
    },
    {
      "cell_type": "code",
      "source": [
        "# Add a new column to myDataFrame2\n",
        "print('This is my DataFrame before adding the column')\n",
        "print(myDataFrame2)\n",
        "print(\"\")\n",
        "\n",
        "schools = ['Carleton', 'McGill', 'Waterloo',\n",
        "           'Windsor', 'Dalhousie']\n",
        "myDataFrame2['School'] = schools\n",
        "print('This is my DataFrame after adding the column')\n",
        "print(myDataFrame2)\n"
      ],
      "metadata": {
        "colab": {
          "base_uri": "https://localhost:8080/"
        },
        "id": "wDPNmfFMXyQ_",
        "outputId": "dae64121-568a-4cc3-8d99-c6e84896086b"
      },
      "execution_count": null,
      "outputs": [
        {
          "output_type": "stream",
          "name": "stdout",
          "text": [
            "This is my DataFrame before adding the column\n",
            "          name  year  reports\n",
            "Singapore  Sam  2020        6\n",
            "China      Mel  2020       13\n",
            "Japan       Mo  2021       14\n",
            "Spain      Ale  2021        1\n",
            "Egypt       Jo  2022        7\n",
            "\n",
            "This is my DataFrame after adding the column\n",
            "          name  year  reports     School\n",
            "Singapore  Sam  2020        6   Carleton\n",
            "China      Mel  2020       13     McGill\n",
            "Japan       Mo  2021       14   Waterloo\n",
            "Spain      Ale  2021        1    Windsor\n",
            "Egypt       Jo  2022        7  Dalhousie\n"
          ]
        }
      ]
    },
    {
      "cell_type": "markdown",
      "source": [
        "**Removing columns and rows:** in some cases we might want to delete full rows or columns from a DataFrame. This can be done with:\n",
        "\n",
        "```\n",
        "myDataFrame.drop('column_name',axis=1) # Delete column with name 'column_name\n",
        "```\n",
        "or\n",
        "```\n",
        "myDataFrame.drop(index_value) # Delete row with name with index value index_value\n",
        "```\n",
        "\n"
      ],
      "metadata": {
        "id": "G2iA643lYF38"
      }
    },
    {
      "cell_type": "code",
      "source": [
        "''' Return a copy of the DataFrame with the rows\n",
        "for Japan and Spain removed'''\n",
        "print('This is my DataFrame with row index Japan and '\n",
        "      'Spain removed')\n",
        "print(myDataFrame2.drop(['Japan', 'Spain']))\n",
        "print(\"\")\n",
        "\n",
        "print('You can also use the index number in '\n",
        "      'the drop function')\n",
        "print(myDataFrame2.drop(myDataFrame2.index[[1,2]]))"
      ],
      "metadata": {
        "colab": {
          "base_uri": "https://localhost:8080/"
        },
        "id": "WQgSl_ERY-vS",
        "outputId": "2632eef4-d366-4465-ce03-5255798a62e8"
      },
      "execution_count": 56,
      "outputs": [
        {
          "output_type": "stream",
          "name": "stdout",
          "text": [
            "This is my DataFrame with row index Japan and Spain removed\n",
            "          name  year  reports\n",
            "Singapore  Sam  2020        6\n",
            "China      Mel  2020       13\n",
            "Egypt       Jo  2022        7\n",
            "\n",
            "You can also use the index number in the drop function\n",
            "          name  year  reports\n",
            "Singapore  Sam  2020        6\n",
            "Spain      Ale  2021        1\n",
            "Egypt       Jo  2022        7\n"
          ]
        }
      ]
    },
    {
      "cell_type": "code",
      "source": [
        "'''If you want to remove Japan and Spain from\n",
        "myDataFrame to do an assignment as below'''\n",
        "print('Notice that the drop function did not'\n",
        "      ' change myDataFrame')\n",
        "print(myDataFrame2)\n",
        "print(\"\")\n",
        "\n",
        "print('Use an assignment to permanently change'\n",
        "      ' myDataFrame2')\n",
        "myDataFrame2 = myDataFrame2.drop(['Japan', 'Spain'])\n",
        "print(myDataFrame2)"
      ],
      "metadata": {
        "colab": {
          "base_uri": "https://localhost:8080/"
        },
        "id": "fRXBHJZNZL0R",
        "outputId": "35780418-1206-43c5-df4c-544f5d858648"
      },
      "execution_count": 57,
      "outputs": [
        {
          "output_type": "stream",
          "name": "stdout",
          "text": [
            "Notice that the drop function did not change myDataFrame\n",
            "          name  year  reports\n",
            "Singapore  Sam  2020        6\n",
            "China      Mel  2020       13\n",
            "Japan       Mo  2021       14\n",
            "Spain      Ale  2021        1\n",
            "Egypt       Jo  2022        7\n",
            "\n",
            "Use an assignment to permanently change myDataFrame2\n",
            "          name  year  reports\n",
            "Singapore  Sam  2020        6\n",
            "China      Mel  2020       13\n",
            "Egypt       Jo  2022        7\n"
          ]
        }
      ]
    },
    {
      "cell_type": "code",
      "source": [
        "''' Use the drop function to remove columns by\n",
        "setting axis=1'''\n",
        "print('This is myDataFrame2 after dropping the '\n",
        "      'reports column by name')\n",
        "print(myDataFrame2.drop('reports', axis=1))\n",
        "print(\"\")\n",
        "\n",
        "print('This is myDataFrame2 after dropping the '\n",
        "      'reports column by number')\n",
        "print(myDataFrame2.drop(myDataFrame2.columns[2],\n",
        "                        axis=1))"
      ],
      "metadata": {
        "colab": {
          "base_uri": "https://localhost:8080/"
        },
        "id": "UN8HpkXeZYVm",
        "outputId": "c3628607-dff0-4add-aedf-0ec633540001"
      },
      "execution_count": 58,
      "outputs": [
        {
          "output_type": "stream",
          "name": "stdout",
          "text": [
            "This is myDataFrame2 after dropping the reports column by name\n",
            "          name  year\n",
            "Singapore  Sam  2020\n",
            "China      Mel  2020\n",
            "Egypt       Jo  2022\n",
            "\n",
            "This is myDataFrame2 after dropping the reports column by number\n",
            "          name  year\n",
            "Singapore  Sam  2020\n",
            "China      Mel  2020\n",
            "Egypt       Jo  2022\n"
          ]
        }
      ]
    },
    {
      "cell_type": "markdown",
      "source": [
        "**Summary Statistics on DataFrames:** many statistical functions are provide to help understand the data in your DataFrame. This includes functions like: ```describe``` that returns summary statistics of each column.\n",
        "\n",
        "Seem more functions here:\n",
        "\n",
        "https://pandas.pydata.org/docs/user_guide/computation.html"
      ],
      "metadata": {
        "id": "OWoK9V_AZo7Q"
      }
    },
    {
      "cell_type": "code",
      "source": [
        "# The describe function provides a quick overview of the statistical properties\n",
        "#of the columns of a DataFrame\n",
        "\n",
        "print(\"DataFrame of interest\")\n",
        "print(myDataFrame)\n",
        "print(\"\")\n",
        "\n",
        "print(\"The desribe function returns the \"\n",
        "      \"summary statistics of a DataFrame\")\n",
        "print(myDataFrame.describe())\n"
      ],
      "metadata": {
        "colab": {
          "base_uri": "https://localhost:8080/"
        },
        "id": "RSZlCIs4qV2x",
        "outputId": "061d64d8-6975-4371-b9d4-728c02f69eb2"
      },
      "execution_count": 59,
      "outputs": [
        {
          "output_type": "stream",
          "name": "stdout",
          "text": [
            "DataFrame of interest\n",
            "          A         B         C         D\n",
            "0  0.412028  1.254795  0.463098  1.179219\n",
            "1 -1.043285 -0.149263 -0.470727  0.783013\n",
            "2  1.273786 -0.930714 -1.095409  0.494329\n",
            "3  0.010220  0.737772 -0.680984 -0.504948\n",
            "4 -0.011178 -0.078953  0.857370 -0.065680\n",
            "5 -0.243469  0.418875 -0.749756 -0.341996\n",
            "6 -0.830419  0.964536  0.211235 -2.069141\n",
            "7  0.078862 -0.338100 -0.671408  1.568386\n",
            "8 -0.884859  0.752275  1.828105  0.564885\n",
            "9  0.452609 -0.988381  1.334920 -0.353884\n",
            "\n",
            "The desribe function returns the summary statistics of a DataFrame\n",
            "               A          B          C          D\n",
            "count  10.000000  10.000000  10.000000  10.000000\n",
            "mean   -0.078570   0.164284   0.102644   0.125418\n",
            "std     0.711974   0.782203   0.995040   1.035615\n",
            "min    -1.043285  -0.988381  -1.095409  -2.069141\n",
            "25%    -0.683681  -0.290891  -0.678590  -0.350912\n",
            "50%    -0.000479   0.169961  -0.129746   0.214324\n",
            "75%     0.328737   0.748649   0.758802   0.728481\n",
            "max     1.273786   1.254795   1.828105   1.568386\n"
          ]
        }
      ]
    },
    {
      "cell_type": "code",
      "source": [
        "''' The Pandas crosstab function summarizes the\n",
        "data in a Dataframe by aggregating and jointly\n",
        "displaying the distribution of two or more columns'''\n",
        "\n",
        "teamDf = pd.DataFrame(\n",
        "    {'Gender': [\"M\", \"M\", \"F\", \"M\", \"F\", \"N\"],\n",
        "     'Team': [1, 2, 1, 3, 2, 3],\n",
        "     'Sport': ['Soccer', 'Hockey', 'Soccer', 'Badminton', 'Hockey', 'Badmiton']}\n",
        ")\n",
        "print('This is the distribution of gender by Team')\n",
        "print(pd.crosstab(teamDf.Team, teamDf.Gender))"
      ],
      "metadata": {
        "colab": {
          "base_uri": "https://localhost:8080/"
        },
        "id": "5PSe0zeJrWje",
        "outputId": "f3cee3ad-fa03-4b3e-bcc3-b077890d4699"
      },
      "execution_count": null,
      "outputs": [
        {
          "output_type": "stream",
          "name": "stdout",
          "text": [
            "This is the distribution of gender by Team\n",
            "Gender  F  M  N\n",
            "Team           \n",
            "1       1  1  0\n",
            "2       1  1  0\n",
            "3       0  1  1\n"
          ]
        }
      ]
    }
  ]
}